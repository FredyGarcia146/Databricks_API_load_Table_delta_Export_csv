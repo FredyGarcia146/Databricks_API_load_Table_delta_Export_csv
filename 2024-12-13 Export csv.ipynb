{
 "cells": [
  {
   "cell_type": "code",
   "execution_count": 0,
   "metadata": {
    "application/vnd.databricks.v1+cell": {
     "cellMetadata": {
      "byteLimit": 2048000,
      "rowLimit": 10000
     },
     "inputWidgets": {},
     "nuid": "9d673cf1-1c3a-477e-84f2-461cf0be1c76",
     "showTitle": false,
     "tableResultSettingsMap": {},
     "title": ""
    }
   },
   "outputs": [],
   "source": [
    "from pyspark.sql import SparkSession\n",
    "\n",
    "table_name = \"default.new_weather_data_history\"  # Cambia 'default' por tu esquema si es necesario\n",
    "\n",
    "df_Export = spark.sql(\"SELECT * FROM \"+table_name)"
   ]
  },
  {
   "cell_type": "code",
   "execution_count": 0,
   "metadata": {
    "application/vnd.databricks.v1+cell": {
     "cellMetadata": {
      "byteLimit": 2048000,
      "rowLimit": 10000
     },
     "inputWidgets": {},
     "nuid": "90d66a24-5e46-481a-be9d-49fad412703b",
     "showTitle": false,
     "tableResultSettingsMap": {},
     "title": ""
    }
   },
   "outputs": [],
   "source": [
    "df_Export.coalesce(1) \\\n",
    "    .write.format(\"com.databricks.spark.csv\") \\\n",
    "    .mode(\"overwrite\") \\\n",
    "    .option(\"header\", \"true\") \\\n",
    "    .option(\"delimiter\", \"|\") \\\n",
    "    .option(\"compression\", \"gzip\") \\\n",
    "    .save(\"dbfs:/FileStore/data_weather_data_history\")"
   ]
  },
  {
   "cell_type": "code",
   "execution_count": 0,
   "metadata": {
    "application/vnd.databricks.v1+cell": {
     "cellMetadata": {
      "byteLimit": 2048000,
      "rowLimit": 10000
     },
     "inputWidgets": {},
     "nuid": "143ff974-9dfc-4d73-8a70-5fe5dc313288",
     "showTitle": false,
     "tableResultSettingsMap": {},
     "title": ""
    }
   },
   "outputs": [],
   "source": [
    "display(dbutils.fs.ls(\"dbfs:/FileStore/data_weather_data_history\"))"
   ]
  },
  {
   "cell_type": "code",
   "execution_count": 0,
   "metadata": {
    "application/vnd.databricks.v1+cell": {
     "cellMetadata": {
      "byteLimit": 2048000,
      "rowLimit": 10000
     },
     "inputWidgets": {},
     "nuid": "808a7ffe-7af6-41cd-9771-74c6bd1caeeb",
     "showTitle": false,
     "tableResultSettingsMap": {},
     "title": ""
    }
   },
   "outputs": [],
   "source": [
    "list_of_files = dbutils.fs.ls(\"dbfs:/FileStore/data_weather_data_history\")\n",
    "for item in list_of_files:\n",
    "  if item.name.startswith(\"part\"):\n",
    "    csv_part_file = item.path\n",
    "    \n",
    "dbutils.fs.mv(csv_part_file, \"dbfs:/FileStore/data_weather_data_history_download\", True)\n",
    "dbutils.fs.rm(\"dbfs:/FileStore/data_weather_data_history\", True)"
   ]
  },
  {
   "cell_type": "code",
   "execution_count": 0,
   "metadata": {
    "application/vnd.databricks.v1+cell": {
     "cellMetadata": {},
     "inputWidgets": {},
     "nuid": "c37fa21d-e7bf-4dd0-9167-beba53ab0e16",
     "showTitle": false,
     "tableResultSettingsMap": {},
     "title": ""
    }
   },
   "outputs": [],
   "source": [
    "# https://community.cloud.databricks.com/files/data_weather_data_history_download?o=*********************\n",
    "\n",
    "# OPTIONAL\n",
    "# https://community.cloud.databricks.com/files/data_weather_data_history_download\n"
   ]
  }
 ],
 "metadata": {
  "application/vnd.databricks.v1+notebook": {
   "computePreferences": null,
   "dashboards": [],
   "environmentMetadata": {
    "base_environment": "",
    "client": "1"
   },
   "language": "python",
   "notebookMetadata": {
    "pythonIndentUnit": 4
   },
   "notebookName": "2024-12-13 Export csv",
   "widgets": {}
  },
  "language_info": {
   "name": "python"
  }
 },
 "nbformat": 4,
 "nbformat_minor": 0
}
